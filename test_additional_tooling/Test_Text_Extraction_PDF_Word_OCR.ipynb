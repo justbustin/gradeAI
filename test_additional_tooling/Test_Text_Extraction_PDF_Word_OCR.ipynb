{
 "cells": [
  {
   "cell_type": "code",
   "execution_count": 3,
   "id": "6707e3dc",
   "metadata": {
    "scrolled": false
   },
   "outputs": [
    {
     "name": "stdout",
     "output_type": "stream",
     "text": [
      "Defaulting to user installation because normal site-packages is not writeable\n",
      "Requirement already satisfied: PyMuPDF in c:\\users\\arnav\\appdata\\roaming\\python\\python311\\site-packages (1.23.22)\n",
      "Requirement already satisfied: docx2txt in c:\\users\\arnav\\appdata\\roaming\\python\\python311\\site-packages (0.8)\n",
      "Requirement already satisfied: pytesseract in c:\\users\\arnav\\appdata\\roaming\\python\\python311\\site-packages (0.3.10)\n",
      "Requirement already satisfied: pillow in c:\\programdata\\anaconda3\\lib\\site-packages (9.4.0)\n",
      "Requirement already satisfied: pix2tex in c:\\users\\arnav\\appdata\\roaming\\python\\python311\\site-packages (0.1.2)\n",
      "Requirement already satisfied: PyMuPDFb==1.23.22 in c:\\users\\arnav\\appdata\\roaming\\python\\python311\\site-packages (from PyMuPDF) (1.23.22)\n",
      "Requirement already satisfied: packaging>=21.3 in c:\\programdata\\anaconda3\\lib\\site-packages (from pytesseract) (23.1)\n",
      "Requirement already satisfied: tqdm>=4.47.0 in c:\\programdata\\anaconda3\\lib\\site-packages (from pix2tex) (4.65.0)\n",
      "Requirement already satisfied: munch>=2.5.0 in c:\\users\\arnav\\appdata\\roaming\\python\\python311\\site-packages (from pix2tex) (4.0.0)\n",
      "Requirement already satisfied: torch>=1.7.1 in c:\\users\\arnav\\appdata\\roaming\\python\\python311\\site-packages (from pix2tex) (2.2.0)\n",
      "Requirement already satisfied: opencv-python-headless>=4.1.1.26 in c:\\users\\arnav\\appdata\\roaming\\python\\python311\\site-packages (from pix2tex) (4.9.0.80)\n",
      "Requirement already satisfied: requests>=2.22.0 in c:\\programdata\\anaconda3\\lib\\site-packages (from pix2tex) (2.31.0)\n",
      "Requirement already satisfied: einops>=0.3.0 in c:\\users\\arnav\\appdata\\roaming\\python\\python311\\site-packages (from pix2tex) (0.7.0)\n",
      "Requirement already satisfied: x-transformers==0.15.0 in c:\\users\\arnav\\appdata\\roaming\\python\\python311\\site-packages (from pix2tex) (0.15.0)\n",
      "Requirement already satisfied: transformers>=4.18.0 in c:\\programdata\\anaconda3\\lib\\site-packages (from pix2tex) (4.32.1)\n",
      "Requirement already satisfied: tokenizers>=0.13.0 in c:\\programdata\\anaconda3\\lib\\site-packages (from pix2tex) (0.13.2)\n",
      "Requirement already satisfied: numpy>=1.19.5 in c:\\programdata\\anaconda3\\lib\\site-packages (from pix2tex) (1.24.3)\n",
      "Requirement already satisfied: PyYAML>=5.4.1 in c:\\programdata\\anaconda3\\lib\\site-packages (from pix2tex) (6.0)\n",
      "Requirement already satisfied: pandas>=1.0.0 in c:\\programdata\\anaconda3\\lib\\site-packages (from pix2tex) (2.0.3)\n",
      "Requirement already satisfied: timm==0.5.4 in c:\\users\\arnav\\appdata\\roaming\\python\\python311\\site-packages (from pix2tex) (0.5.4)\n",
      "Requirement already satisfied: albumentations>=0.5.2 in c:\\users\\arnav\\appdata\\roaming\\python\\python311\\site-packages (from pix2tex) (1.3.1)\n",
      "Requirement already satisfied: pyreadline3>=3.4.1 in c:\\users\\arnav\\appdata\\roaming\\python\\python311\\site-packages (from pix2tex) (3.4.1)\n",
      "Requirement already satisfied: torchvision in c:\\users\\arnav\\appdata\\roaming\\python\\python311\\site-packages (from timm==0.5.4->pix2tex) (0.17.0)\n",
      "Requirement already satisfied: entmax in c:\\users\\arnav\\appdata\\roaming\\python\\python311\\site-packages (from x-transformers==0.15.0->pix2tex) (1.3)\n",
      "Requirement already satisfied: scipy>=1.1.0 in c:\\programdata\\anaconda3\\lib\\site-packages (from albumentations>=0.5.2->pix2tex) (1.11.1)\n",
      "Requirement already satisfied: scikit-image>=0.16.1 in c:\\programdata\\anaconda3\\lib\\site-packages (from albumentations>=0.5.2->pix2tex) (0.20.0)\n",
      "Requirement already satisfied: qudida>=0.0.4 in c:\\users\\arnav\\appdata\\roaming\\python\\python311\\site-packages (from albumentations>=0.5.2->pix2tex) (0.0.4)\n",
      "Requirement already satisfied: python-dateutil>=2.8.2 in c:\\programdata\\anaconda3\\lib\\site-packages (from pandas>=1.0.0->pix2tex) (2.8.2)\n",
      "Requirement already satisfied: pytz>=2020.1 in c:\\programdata\\anaconda3\\lib\\site-packages (from pandas>=1.0.0->pix2tex) (2023.3.post1)\n",
      "Requirement already satisfied: tzdata>=2022.1 in c:\\programdata\\anaconda3\\lib\\site-packages (from pandas>=1.0.0->pix2tex) (2023.3)\n",
      "Requirement already satisfied: charset-normalizer<4,>=2 in c:\\programdata\\anaconda3\\lib\\site-packages (from requests>=2.22.0->pix2tex) (2.0.4)\n",
      "Requirement already satisfied: idna<4,>=2.5 in c:\\programdata\\anaconda3\\lib\\site-packages (from requests>=2.22.0->pix2tex) (3.4)\n",
      "Requirement already satisfied: urllib3<3,>=1.21.1 in c:\\programdata\\anaconda3\\lib\\site-packages (from requests>=2.22.0->pix2tex) (1.26.16)\n",
      "Requirement already satisfied: certifi>=2017.4.17 in c:\\programdata\\anaconda3\\lib\\site-packages (from requests>=2.22.0->pix2tex) (2023.7.22)\n",
      "Requirement already satisfied: filelock in c:\\programdata\\anaconda3\\lib\\site-packages (from torch>=1.7.1->pix2tex) (3.9.0)\n",
      "Requirement already satisfied: typing-extensions>=4.8.0 in c:\\users\\arnav\\appdata\\roaming\\python\\python311\\site-packages (from torch>=1.7.1->pix2tex) (4.9.0)\n",
      "Requirement already satisfied: sympy in c:\\programdata\\anaconda3\\lib\\site-packages (from torch>=1.7.1->pix2tex) (1.11.1)\n",
      "Requirement already satisfied: networkx in c:\\programdata\\anaconda3\\lib\\site-packages (from torch>=1.7.1->pix2tex) (3.1)\n",
      "Requirement already satisfied: jinja2 in c:\\programdata\\anaconda3\\lib\\site-packages (from torch>=1.7.1->pix2tex) (3.1.2)\n",
      "Requirement already satisfied: fsspec in c:\\programdata\\anaconda3\\lib\\site-packages (from torch>=1.7.1->pix2tex) (2023.4.0)\n",
      "Requirement already satisfied: colorama in c:\\programdata\\anaconda3\\lib\\site-packages (from tqdm>=4.47.0->pix2tex) (0.4.6)\n",
      "Requirement already satisfied: huggingface-hub<1.0,>=0.15.1 in c:\\programdata\\anaconda3\\lib\\site-packages (from transformers>=4.18.0->pix2tex) (0.15.1)\n",
      "Requirement already satisfied: regex!=2019.12.17 in c:\\programdata\\anaconda3\\lib\\site-packages (from transformers>=4.18.0->pix2tex) (2022.7.9)\n",
      "Requirement already satisfied: safetensors>=0.3.1 in c:\\programdata\\anaconda3\\lib\\site-packages (from transformers>=4.18.0->pix2tex) (0.3.2)\n",
      "Requirement already satisfied: six>=1.5 in c:\\programdata\\anaconda3\\lib\\site-packages (from python-dateutil>=2.8.2->pandas>=1.0.0->pix2tex) (1.16.0)\n",
      "Requirement already satisfied: scikit-learn>=0.19.1 in c:\\programdata\\anaconda3\\lib\\site-packages (from qudida>=0.0.4->albumentations>=0.5.2->pix2tex) (1.3.0)\n",
      "Requirement already satisfied: imageio>=2.4.1 in c:\\programdata\\anaconda3\\lib\\site-packages (from scikit-image>=0.16.1->albumentations>=0.5.2->pix2tex) (2.26.0)\n",
      "Requirement already satisfied: tifffile>=2019.7.26 in c:\\programdata\\anaconda3\\lib\\site-packages (from scikit-image>=0.16.1->albumentations>=0.5.2->pix2tex) (2023.4.12)\n",
      "Requirement already satisfied: PyWavelets>=1.1.1 in c:\\programdata\\anaconda3\\lib\\site-packages (from scikit-image>=0.16.1->albumentations>=0.5.2->pix2tex) (1.4.1)\n",
      "Requirement already satisfied: lazy_loader>=0.1 in c:\\programdata\\anaconda3\\lib\\site-packages (from scikit-image>=0.16.1->albumentations>=0.5.2->pix2tex) (0.2)\n",
      "Requirement already satisfied: MarkupSafe>=2.0 in c:\\programdata\\anaconda3\\lib\\site-packages (from jinja2->torch>=1.7.1->pix2tex) (2.1.1)\n",
      "Requirement already satisfied: mpmath>=0.19 in c:\\programdata\\anaconda3\\lib\\site-packages (from sympy->torch>=1.7.1->pix2tex) (1.3.0)\n",
      "Requirement already satisfied: joblib>=1.1.1 in c:\\programdata\\anaconda3\\lib\\site-packages (from scikit-learn>=0.19.1->qudida>=0.0.4->albumentations>=0.5.2->pix2tex) (1.2.0)\n",
      "Requirement already satisfied: threadpoolctl>=2.0.0 in c:\\programdata\\anaconda3\\lib\\site-packages (from scikit-learn>=0.19.1->qudida>=0.0.4->albumentations>=0.5.2->pix2tex) (2.2.0)\n"
     ]
    }
   ],
   "source": [
    "!pip install PyMuPDF docx2txt pytesseract pillow pix2tex"
   ]
  },
  {
   "cell_type": "code",
   "execution_count": 19,
   "id": "02d1573a",
   "metadata": {},
   "outputs": [],
   "source": [
    "import fitz\n",
    "import docx2txt\n",
    "import os\n",
    "import pytesseract\n",
    "from PIL import Image\n",
    "from pix2tex.cli import LatexOCR\n",
    "from IPython.display import display, Latex, Math"
   ]
  },
  {
   "cell_type": "markdown",
   "id": "89b323f1",
   "metadata": {},
   "source": [
    "# PDF Text and Image Extraction"
   ]
  },
  {
   "cell_type": "code",
   "execution_count": 5,
   "id": "bb8d8863",
   "metadata": {},
   "outputs": [
    {
     "name": "stdout",
     "output_type": "stream",
     "text": [
      "Text on Page 1:\n",
      "SCIENCE LAB REPORT\n",
      "Lorem ipsum dolor sit amet, consectetuer adipiscing elit\n",
      "Your Name\n",
      "09.04.20XX\n",
      "8TH GRADE SCIENCE\n",
      "\n",
      "\n",
      "Saved Image: page_1_image_1.png\n",
      "Text on Page 2:\n",
      "INTRODUCTION\n",
      "Lorem ipsum dolor sit amet, consectetuer adipiscing elit, sed diam nonummy nibh\n",
      "euismod tincidunt ut laoreet dolore magna aliquam erat volutpat. Ut wisi enim ad minim\n",
      "veniam, quis nostrud exerci tation ullamcorper suscipit lobortis nisl ut aliquip ex ea\n",
      "commodo consequat.\n",
      "HYPOTHESIS\n",
      "Duis autem vel eum iriure dolor in hendrerit in vulputate velit esse molestie consequat,\n",
      "vel illum dolore eu feugiat nulla facilisis at vero eros et accumsan.\n",
      "MATERIALS\n",
      "1. Lorem ipsum dolor sit amet\n",
      "2. Consectetuer adipiscing elit\n",
      "3. Sed diam nonummy nibh euismod\n",
      "PROCEDURE\n",
      "1. Lorem ipsum dolor sit amet\n",
      "2. Consectetuer adipiscing elit\n",
      "3. Sed diam nonummy nibh euismod\n",
      "DATA\n",
      "LOREM IPSUM\n",
      "DOLOR SIT\n",
      "Lorem ipsum\n",
      "Lorem ipsum\n",
      "Lorem ipsum\n",
      "1\n",
      "\n",
      "\n",
      "Text on Page 3:\n",
      "RESULTS\n",
      "Nam liber tempor cum soluta nobis eleifend option congue nihil imperdiet doming id\n",
      "quod mazim placerat facer possim assum. Typi non habent claritatem insitam; est usus\n",
      "legentis in iis qui facit eorum claritatem. Investigationes demonstraverunt lectores\n",
      "legere me lius quod ii legunt saepius.\n",
      "1. Lorem ipsum dolor sit amet\n",
      "2. Consectetuer adipiscing elit\n",
      "3. Sed diam nonummy nibh euismod\n",
      "CONCLUSION\n",
      "Lorem ipsum dolor sit amet, consectetuer adipiscing elit, sed diam nonummy nibh\n",
      "euismod tincidunt ut laoreet dolore magna aliquam erat volutpat. Ut wisi enim ad minim\n",
      "veniam, quis nostrud exerci tation ullamcorper suscipit lobortis nisl ut aliquip ex ea\n",
      "commodo consequat.\n",
      "REFERENCES\n",
      "1. Lorem ipsum dolor sit amet\n",
      "2. Consectetuer adipiscing elit\n",
      "3. Sed diam nonummy nibh euismod\n",
      "2\n",
      "\n",
      "\n"
     ]
    }
   ],
   "source": [
    "doc = fitz.open(r\"Report.pdf\")\n",
    "\n",
    "for page_num, page in enumerate(doc):\n",
    "    # Extract text\n",
    "    text = page.get_text()\n",
    "    print(f\"Text on Page {page_num + 1}:\\n{text}\\n\")\n",
    "    \n",
    "    # Extract images\n",
    "    image_list = page.get_images(full=True)\n",
    "    for image_index, img in enumerate(image_list, start=1):\n",
    "        xref = img[0]\n",
    "        base_image = doc.extract_image(xref)\n",
    "        image_bytes = base_image[\"image\"]\n",
    "        image_filename = f\"page_{page_num + 1}_image_{image_index}.png\"\n",
    "        with open(image_filename, \"wb\") as img_file:\n",
    "            img_file.write(image_bytes)\n",
    "        print(f\"Saved Image: {image_filename}\")\n",
    "\n",
    "doc.close()  \n"
   ]
  },
  {
   "cell_type": "markdown",
   "id": "ec0ede5a",
   "metadata": {},
   "source": [
    "# Word Text and Image Extraction"
   ]
  },
  {
   "cell_type": "code",
   "execution_count": 6,
   "id": "dbe67921",
   "metadata": {},
   "outputs": [
    {
     "name": "stdout",
     "output_type": "stream",
     "text": [
      "SCIENCE LAB REPORT\n",
      "\n",
      "Lorem ipsum dolor sit amet, consectetuer adipiscing elit\n",
      "\n",
      "\n",
      "\n",
      "Your Name\n",
      "\n",
      "09.04.20XX\n",
      "\n",
      "8TH GRADE SCIENCE\n",
      "\n",
      "\n",
      "\n",
      "\n",
      "\n",
      "\n",
      "\n",
      "\n",
      "\n",
      "INTRODUCTION\n",
      "\n",
      "Lorem ipsum dolor sit amet, consectetuer adipiscing elit, sed diam nonummy nibh euismod tincidunt ut laoreet dolore magna aliquam erat volutpat. Ut wisi enim ad minim veniam, quis nostrud exerci tation ullamcorper suscipit lobortis nisl ut aliquip ex ea commodo consequat.\n",
      "\n",
      "HYPOTHESIS\n",
      "\n",
      "Duis autem vel eum iriure dolor in hendrerit in vulputate velit esse molestie consequat, vel illum dolore eu feugiat nulla facilisis at vero eros et accumsan.\n",
      "\n",
      "MATERIALS\n",
      "\n",
      "Lorem ipsum dolor sit amet\n",
      "\n",
      "Consectetuer adipiscing elit\n",
      "\n",
      "Sed diam nonummy nibh euismod\n",
      "\n",
      "PROCEDURE\n",
      "\n",
      "Lorem ipsum dolor sit amet\n",
      "\n",
      "Consectetuer adipiscing elit\n",
      "\n",
      "Sed diam nonummy nibh euismod\n",
      "\n",
      "DATA\n",
      "\n",
      "LOREM IPSUM\n",
      "\n",
      "DOLOR SIT\n",
      "\n",
      "\n",
      "\n",
      "Lorem ipsum\n",
      "\n",
      "\n",
      "\n",
      "\n",
      "\n",
      "Lorem ipsum\n",
      "\n",
      "\n",
      "\n",
      "\n",
      "\n",
      "Lorem ipsum\n",
      "\n",
      "\n",
      "\n",
      "\n",
      "\n",
      "RESULTS\n",
      "\n",
      "Nam liber tempor cum soluta nobis eleifend option congue nihil imperdiet doming id quod mazim placerat facer possim assum. Typi non habent claritatem insitam; est usus legentis in iis qui facit eorum claritatem. Investigationes demonstraverunt lectores legere me lius quod ii legunt saepius.\n",
      "\n",
      "Lorem ipsum dolor sit amet\n",
      "\n",
      "Consectetuer adipiscing elit\n",
      "\n",
      "Sed diam nonummy nibh euismod\n",
      "\n",
      "CONCLUSION\n",
      "\n",
      "Lorem ipsum dolor sit amet, consectetuer adipiscing elit, sed diam nonummy nibh euismod tincidunt ut laoreet dolore magna aliquam erat volutpat. Ut wisi enim ad minim veniam, quis nostrud exerci tation ullamcorper suscipit lobortis nisl ut aliquip ex ea commodo consequat.\n",
      "\n",
      "REFERENCES\n",
      "\n",
      "Lorem ipsum dolor sit amet\n",
      "\n",
      "Consectetuer adipiscing elit\n",
      "\n",
      "Sed diam nonummy nibh euismod\n"
     ]
    }
   ],
   "source": [
    "# Specify the path to your Word document\n",
    "doc_path = r\"Report.docx\"\n",
    "# Specify the directory to save images\n",
    "images_dir = r\"images_directory\"  # Adjust the path as needed\n",
    "\n",
    "# Ensure the images directory exists\n",
    "if not os.path.exists(images_dir):\n",
    "    os.makedirs(images_dir)\n",
    "\n",
    "# Extract text and save images from the document\n",
    "text = docx2txt.process(doc_path, images_dir)\n",
    "\n",
    "# Print the extracted text\n",
    "print(text)"
   ]
  },
  {
   "cell_type": "markdown",
   "id": "4d0c535d",
   "metadata": {},
   "source": [
    "# OCR Math Equation Extraction"
   ]
  },
  {
   "cell_type": "code",
   "execution_count": 20,
   "id": "b68dabdb",
   "metadata": {},
   "outputs": [
    {
     "data": {
      "text/latex": [
       "$\\displaystyle \\sum_{k=0}^{n}\\left({n\\atop k}\\right)=2^{n}$"
      ],
      "text/plain": [
       "<IPython.core.display.Math object>"
      ]
     },
     "metadata": {},
     "output_type": "display_data"
    }
   ],
   "source": [
    "img = Image.open(r\"C:\\Users\\arnav\\Downloads\\Screenshot 2024-02-17 085808.png\")\n",
    "model = LatexOCR()\n",
    "\n",
    "# Your LaTeX equation as a Python string\n",
    "latex_str = model(img)\n",
    "\n",
    "# Display the LaTeX equation\n",
    "display(Math(latex_str))"
   ]
  },
  {
   "cell_type": "code",
   "execution_count": null,
   "id": "1a0405fe",
   "metadata": {},
   "outputs": [],
   "source": []
  }
 ],
 "metadata": {
  "kernelspec": {
   "display_name": "Python 3 (ipykernel)",
   "language": "python",
   "name": "python3"
  },
  "language_info": {
   "codemirror_mode": {
    "name": "ipython",
    "version": 3
   },
   "file_extension": ".py",
   "mimetype": "text/x-python",
   "name": "python",
   "nbconvert_exporter": "python",
   "pygments_lexer": "ipython3",
   "version": "3.11.5"
  }
 },
 "nbformat": 4,
 "nbformat_minor": 5
}
